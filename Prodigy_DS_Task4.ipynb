{
 "cells": [
  {
   "cell_type": "markdown",
   "id": "f02733ee-04aa-40cb-a527-05323204c97d",
   "metadata": {},
   "source": [
    "# Import Libraries"
   ]
  },
  {
   "cell_type": "code",
   "execution_count": 47,
   "id": "6dcc48c8-6e6f-41b0-9e30-57a6f72d14a1",
   "metadata": {},
   "outputs": [],
   "source": [
    "import pandas as pd\n",
    "import matplotlib.pyplot as plt\n",
    "from textblob import TextBlob"
   ]
  },
  {
   "cell_type": "markdown",
   "id": "ef9a4e98-683b-473c-b176-8ba5be827135",
   "metadata": {},
   "source": [
    "#  Social media Data About TechGadget"
   ]
  },
  {
   "cell_type": "code",
   "execution_count": 48,
   "id": "25b6f4b3-928d-42c2-b7f0-b9c5f7b8cc03",
   "metadata": {},
   "outputs": [],
   "source": [
    "data = {\n",
    "    'Post': [\n",
    "        'I love the new design of TechGadget!',\n",
    "        'The customer service for TechGadget was terrible.',\n",
    "        'Absolutely fantastic experience with TechGadget, will buy again.',\n",
    "        'Not happy with the quality of TechGadget, very disappointing.',\n",
    "        'TechGadget offers great value for the price!',\n",
    "        'TechGadget broke after a week of use.',\n",
    "        'TechGadget has amazing features and is easy to use.',\n",
    "        'Terrible! I want my money back for TechGadget.',\n",
    "        'I am very satisfied with my TechGadget purchase.',\n",
    "        'Worst product ever. Never buying TechGadget again.'\n",
    "    ]\n",
    "}"
   ]
  },
  {
   "cell_type": "markdown",
   "id": "c022b019-433d-46d7-b993-462fb4a75c92",
   "metadata": {},
   "source": [
    "# Create Data Frame"
   ]
  },
  {
   "cell_type": "code",
   "execution_count": 49,
   "id": "09249226-eded-4b2a-a9cf-99cfb8965716",
   "metadata": {},
   "outputs": [],
   "source": [
    "df = pd.DataFrame(data)"
   ]
  },
  {
   "cell_type": "markdown",
   "id": "9b7c7586-bb7c-4ab0-b03a-e17b8a6549e5",
   "metadata": {},
   "source": [
    "# Calculate Sentiment"
   ]
  },
  {
   "cell_type": "code",
   "execution_count": 50,
   "id": "7ac507c6-17b0-4db5-9533-06eb808c4cba",
   "metadata": {},
   "outputs": [],
   "source": [
    "def get_sentiment(text):\n",
    "    analysis = TextBlob(text)\n",
    "    return analysis.sentiment.polarity"
   ]
  },
  {
   "cell_type": "markdown",
   "id": "452da328-42c5-4ef4-989a-19877e4a69f2",
   "metadata": {},
   "source": [
    "# Apply Sentiment Analysis"
   ]
  },
  {
   "cell_type": "code",
   "execution_count": 51,
   "id": "73fa9fbd-f31e-463f-8dc6-411f13e7760e",
   "metadata": {},
   "outputs": [],
   "source": [
    "df['Sentiment'] = df['Post'].apply(get_sentiment)"
   ]
  },
  {
   "cell_type": "markdown",
   "id": "bdf978ec-b2ce-440b-8be2-2b54cb816044",
   "metadata": {},
   "source": [
    "# Classify Sentiment"
   ]
  },
  {
   "cell_type": "code",
   "execution_count": 52,
   "id": "f3600af1-6ed6-456e-92c0-64204d2decb4",
   "metadata": {},
   "outputs": [],
   "source": [
    "df['Sentiment_Class'] = df['Sentiment'].apply(lambda x: 'Positive' if x > 0 else ('Neutral' if x == 0 else 'Negative'))"
   ]
  },
  {
   "cell_type": "markdown",
   "id": "8feca575-498f-4f7d-95d5-2f5dc962f88c",
   "metadata": {},
   "source": [
    "# Ploting Sentiment Scores"
   ]
  },
  {
   "cell_type": "code",
   "execution_count": 53,
   "id": "6e9d74ac-25c4-4c10-b67e-5ead5a7b969b",
   "metadata": {},
   "outputs": [
    {
     "data": {
      "image/png": "[encoded data removed]",
      "text/plain": [
       "<Figure size 1000x600 with 1 Axes>"
      ]
     },
     "metadata": {},
     "output_type": "display_data"
    }
   ],
   "source": [
    "plt.figure(figsize=(10, 6))\n",
    "plt.hist(df['Sentiment'], bins=10, edgecolor='black', color='blue')\n",
    "plt.title('Sentiment Score Distribution for TechGadget')\n",
    "plt.xlabel('Sentiment Score')\n",
    "plt.ylabel('Frequency')\n",
    "plt.grid(True)\n",
    "plt.show()"
   ]
  },
  {
   "cell_type": "markdown",
   "id": "0c5e490a-66f5-48b0-851e-e133a4db978b",
   "metadata": {},
   "source": [
    "# Display DataFrame"
   ]
  },
  {
   "cell_type": "code",
   "execution_count": 54,
   "id": "a127ac8b-0349-474f-acd0-c35a16a98275",
   "metadata": {},
   "outputs": [
    {
     "data": {
      "text/html": [
       "<div>\n",
       "<style scoped>\n",
       "    .dataframe tbody tr th:only-of-type {\n",
       "        vertical-align: middle;\n",
       "    }\n",
       "\n",
       "    .dataframe tbody tr th {\n",
       "        vertical-align: top;\n",
       "    }\n",
       "\n",
       "    .dataframe thead th {\n",
       "        text-align: right;\n",
       "    }\n",
       "</style>\n",
       "<table border=\"1\" class=\"dataframe\">\n",
       "  <thead>\n",
       "    <tr style=\"text-align: right;\">\n",
       "      <th></th>\n",
       "      <th>Post</th>\n",
       "      <th>Sentiment</th>\n",
       "      <th>Sentiment_Class</th>\n",
       "    </tr>\n",
       "  </thead>\n",
       "  <tbody>\n",
       "    <tr>\n",
       "      <th>0</th>\n",
       "      <td>I love the new design of TechGadget!</td>\n",
       "      <td>0.335227</td>\n",
       "      <td>Positive</td>\n",
       "    </tr>\n",
       "    <tr>\n",
       "      <th>1</th>\n",
       "      <td>The customer service for TechGadget was terrible.</td>\n",
       "      <td>-1.000000</td>\n",
       "      <td>Negative</td>\n",
       "    </tr>\n",
       "    <tr>\n",
       "      <th>2</th>\n",
       "      <td>Absolutely fantastic experience with TechGadge...</td>\n",
       "      <td>0.400000</td>\n",
       "      <td>Positive</td>\n",
       "    </tr>\n",
       "    <tr>\n",
       "      <th>3</th>\n",
       "      <td>Not happy with the quality of TechGadget, very...</td>\n",
       "      <td>-0.590000</td>\n",
       "      <td>Negative</td>\n",
       "    </tr>\n",
       "    <tr>\n",
       "      <th>4</th>\n",
       "      <td>TechGadget offers great value for the price!</td>\n",
       "      <td>0.550000</td>\n",
       "      <td>Positive</td>\n",
       "    </tr>\n",
       "    <tr>\n",
       "      <th>5</th>\n",
       "      <td>TechGadget broke after a week of use.</td>\n",
       "      <td>0.000000</td>\n",
       "      <td>Neutral</td>\n",
       "    </tr>\n",
       "    <tr>\n",
       "      <th>6</th>\n",
       "      <td>TechGadget has amazing features and is easy to...</td>\n",
       "      <td>0.516667</td>\n",
       "      <td>Positive</td>\n",
       "    </tr>\n",
       "    <tr>\n",
       "      <th>7</th>\n",
       "      <td>Terrible! I want my money back for TechGadget.</td>\n",
       "      <td>-0.500000</td>\n",
       "      <td>Negative</td>\n",
       "    </tr>\n",
       "    <tr>\n",
       "      <th>8</th>\n",
       "      <td>I am very satisfied with my TechGadget purchase.</td>\n",
       "      <td>0.650000</td>\n",
       "      <td>Positive</td>\n",
       "    </tr>\n",
       "    <tr>\n",
       "      <th>9</th>\n",
       "      <td>Worst product ever. Never buying TechGadget ag...</td>\n",
       "      <td>-1.000000</td>\n",
       "      <td>Negative</td>\n",
       "    </tr>\n",
       "  </tbody>\n",
       "</table>\n",
       "</div>"
      ],
      "text/plain": [
       "                                                Post  Sentiment  \\\n",
       "0               I love the new design of TechGadget!   0.335227   \n",
       "1  The customer service for TechGadget was terrible.  -1.000000   \n",
       "2  Absolutely fantastic experience with TechGadge...   0.400000   \n",
       "3  Not happy with the quality of TechGadget, very...  -0.590000   \n",
       "4       TechGadget offers great value for the price!   0.550000   \n",
       "5              TechGadget broke after a week of use.   0.000000   \n",
       "6  TechGadget has amazing features and is easy to...   0.516667   \n",
       "7     Terrible! I want my money back for TechGadget.  -0.500000   \n",
       "8   I am very satisfied with my TechGadget purchase.   0.650000   \n",
       "9  Worst product ever. Never buying TechGadget ag...  -1.000000   \n",
       "\n",
       "  Sentiment_Class  \n",
       "0        Positive  \n",
       "1        Negative  \n",
       "2        Positive  \n",
       "3        Negative  \n",
       "4        Positive  \n",
       "5         Neutral  \n",
       "6        Positive  \n",
       "7        Negative  \n",
       "8        Positive  \n",
       "9        Negative  "
      ]
     },
     "execution_count": 54,
     "metadata": {},
     "output_type": "execute_result"
    }
   ],
   "source": [
    "df"
   ]
  }
 ],
 "metadata": {
  "kernelspec": {
   "display_name": "Python 3 (ipykernel)",
   "language": "python",
   "name": "python3"
  },
  "language_info": {
   "codemirror_mode": {
    "name": "ipython",
    "version": 3
   },
   "file_extension": ".py",
   "mimetype": "text/x-python",
   "name": "python",
   "nbconvert_exporter": "python",
   "pygments_lexer": "ipython3",
   "version": "3.12.4"
  }
 },
 "nbformat": 4,
 "nbformat_minor": 5
}
